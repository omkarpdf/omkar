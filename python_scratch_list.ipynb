{
  "nbformat": 4,
  "nbformat_minor": 0,
  "metadata": {
    "colab": {
      "provenance": [],
      "authorship_tag": "ABX9TyP4sPeOGU3FoMDFoA2FqkoQ",
      "include_colab_link": true
    },
    "kernelspec": {
      "name": "python3",
      "display_name": "Python 3"
    },
    "language_info": {
      "name": "python"
    }
  },
  "cells": [
    {
      "cell_type": "markdown",
      "metadata": {
        "id": "view-in-github",
        "colab_type": "text"
      },
      "source": [
        "<a href=\"https://colab.research.google.com/github/omkarpdf/omkar/blob/main/python_scratch_list.ipynb\" target=\"_parent\"><img src=\"https://colab.research.google.com/assets/colab-badge.svg\" alt=\"Open In Colab\"/></a>"
      ]
    },
    {
      "cell_type": "code",
      "execution_count": 2,
      "metadata": {
        "id": "To6KCSQYw470"
      },
      "outputs": [],
      "source": [
        "a = 5"
      ]
    },
    {
      "cell_type": "code",
      "source": [
        "type(a)"
      ],
      "metadata": {
        "colab": {
          "base_uri": "https://localhost:8080/"
        },
        "id": "HCw3yhg6w7VS",
        "outputId": "b05e90bd-5eb3-419e-bfe5-837ac06b2ad4"
      },
      "execution_count": 3,
      "outputs": [
        {
          "output_type": "execute_result",
          "data": {
            "text/plain": [
              "int"
            ]
          },
          "metadata": {},
          "execution_count": 3
        }
      ]
    },
    {
      "cell_type": "code",
      "source": [
        "def sum(a,b):\n",
        "  add=a+b\n",
        "  return add\n"
      ],
      "metadata": {
        "id": "g0ydBaYCw8nw"
      },
      "execution_count": 4,
      "outputs": []
    },
    {
      "cell_type": "code",
      "source": [
        "sum(10,2)"
      ],
      "metadata": {
        "colab": {
          "base_uri": "https://localhost:8080/"
        },
        "id": "pxmkhwrOxNor",
        "outputId": "8b7be546-e0f5-4feb-8302-c9f36238ade8"
      },
      "execution_count": 5,
      "outputs": [
        {
          "output_type": "execute_result",
          "data": {
            "text/plain": [
              "12"
            ]
          },
          "metadata": {},
          "execution_count": 5
        }
      ]
    },
    {
      "cell_type": "code",
      "source": [
        "name= input(\"give me your name :\")"
      ],
      "metadata": {
        "colab": {
          "base_uri": "https://localhost:8080/"
        },
        "id": "OpDaWKggxPhd",
        "outputId": "70ae4ab5-ba4b-402e-865b-2853b8676476"
      },
      "execution_count": 6,
      "outputs": [
        {
          "name": "stdout",
          "output_type": "stream",
          "text": [
            "give me your name :omkar\n"
          ]
        }
      ]
    },
    {
      "cell_type": "code",
      "source": [
        "def information (name):\n",
        "  if name == \"omkar\":\n",
        "    print(\"Smarty\")\n",
        "  else:\n",
        "    print(\"chutiya\")"
      ],
      "metadata": {
        "id": "yM-ThpyVxZSq"
      },
      "execution_count": 7,
      "outputs": []
    },
    {
      "cell_type": "code",
      "source": [
        "information(\"omkar\")"
      ],
      "metadata": {
        "colab": {
          "base_uri": "https://localhost:8080/"
        },
        "id": "GNoXYOe8x_lU",
        "outputId": "e50e583b-01c5-4dc0-af17-e66682dc7d4e"
      },
      "execution_count": 8,
      "outputs": [
        {
          "output_type": "stream",
          "name": "stdout",
          "text": [
            "Smarty\n"
          ]
        }
      ]
    },
    {
      "cell_type": "code",
      "source": [
        "information(\"sachin\")"
      ],
      "metadata": {
        "id": "oAmKCW1HydeP",
        "outputId": "19bff65d-3ef7-4f6b-c11a-ddfd58edb2b8",
        "colab": {
          "base_uri": "https://localhost:8080/"
        }
      },
      "execution_count": 9,
      "outputs": [
        {
          "output_type": "stream",
          "name": "stdout",
          "text": [
            "chutiya\n"
          ]
        }
      ]
    },
    {
      "cell_type": "code",
      "source": [
        "var = \"2.5\""
      ],
      "metadata": {
        "id": "8kPVOjhBwymN"
      },
      "execution_count": 10,
      "outputs": []
    },
    {
      "cell_type": "code",
      "source": [
        "print(type(var))"
      ],
      "metadata": {
        "colab": {
          "base_uri": "https://localhost:8080/"
        },
        "id": "2OrsuNebw4K6",
        "outputId": "3d4a8367-2ce0-4794-9edc-6287c959fb43"
      },
      "execution_count": 11,
      "outputs": [
        {
          "output_type": "stream",
          "name": "stdout",
          "text": [
            "<class 'str'>\n"
          ]
        }
      ]
    },
    {
      "cell_type": "code",
      "source": [
        "var1=float(var)"
      ],
      "metadata": {
        "id": "LrYNAfvrw8P9"
      },
      "execution_count": 12,
      "outputs": []
    },
    {
      "cell_type": "code",
      "source": [
        "print(type(var1))"
      ],
      "metadata": {
        "colab": {
          "base_uri": "https://localhost:8080/"
        },
        "id": "qchWXLmKxBKV",
        "outputId": "56877ca3-12b1-4f9c-ad7e-ba1bedb5c12a"
      },
      "execution_count": 13,
      "outputs": [
        {
          "output_type": "stream",
          "name": "stdout",
          "text": [
            "<class 'float'>\n"
          ]
        }
      ]
    },
    {
      "cell_type": "code",
      "source": [
        "var2=int(var1)\n",
        "var2"
      ],
      "metadata": {
        "colab": {
          "base_uri": "https://localhost:8080/"
        },
        "id": "VvtwZIMAxEmO",
        "outputId": "0c6d25b8-47f5-4ba0-c499-f77619ed0014"
      },
      "execution_count": 14,
      "outputs": [
        {
          "output_type": "execute_result",
          "data": {
            "text/plain": [
              "2"
            ]
          },
          "metadata": {},
          "execution_count": 14
        }
      ]
    },
    {
      "cell_type": "code",
      "source": [
        "a= \"2.5\" #first you convert into float...you cannot diectly convert integer value of string"
      ],
      "metadata": {
        "id": "bWR8e0fIxWVW"
      },
      "execution_count": 15,
      "outputs": []
    },
    {
      "cell_type": "code",
      "source": [
        "b=int(a)"
      ],
      "metadata": {
        "colab": {
          "base_uri": "https://localhost:8080/",
          "height": 141
        },
        "id": "fGdEz-iux11R",
        "outputId": "f6e58116-3175-476e-8f47-2c55242694dc"
      },
      "execution_count": 16,
      "outputs": [
        {
          "output_type": "error",
          "ename": "ValueError",
          "evalue": "invalid literal for int() with base 10: '2.5'",
          "traceback": [
            "\u001b[0;31m---------------------------------------------------------------------------\u001b[0m",
            "\u001b[0;31mValueError\u001b[0m                                Traceback (most recent call last)",
            "\u001b[0;32m<ipython-input-16-a38a1fbf6950>\u001b[0m in \u001b[0;36m<cell line: 1>\u001b[0;34m()\u001b[0m\n\u001b[0;32m----> 1\u001b[0;31m \u001b[0mb\u001b[0m\u001b[0;34m=\u001b[0m\u001b[0mint\u001b[0m\u001b[0;34m(\u001b[0m\u001b[0ma\u001b[0m\u001b[0;34m)\u001b[0m\u001b[0;34m\u001b[0m\u001b[0;34m\u001b[0m\u001b[0m\n\u001b[0m",
            "\u001b[0;31mValueError\u001b[0m: invalid literal for int() with base 10: '2.5'"
          ]
        }
      ]
    },
    {
      "cell_type": "code",
      "source": [
        "b=float(a) #so first you convert into float\n",
        "b"
      ],
      "metadata": {
        "colab": {
          "base_uri": "https://localhost:8080/"
        },
        "id": "abzIIaK-x4Xf",
        "outputId": "369848dd-2ec5-47ae-e5f2-3fa6c2df9f74"
      },
      "execution_count": 17,
      "outputs": [
        {
          "output_type": "execute_result",
          "data": {
            "text/plain": [
              "2.5"
            ]
          },
          "metadata": {},
          "execution_count": 17
        }
      ]
    },
    {
      "cell_type": "code",
      "source": [
        "c=int(b) #and then into integer.\n",
        "c"
      ],
      "metadata": {
        "colab": {
          "base_uri": "https://localhost:8080/"
        },
        "id": "r7fxefCjyGwK",
        "outputId": "fb637f1f-4acc-4f05-d3d5-94eae8d250c6"
      },
      "execution_count": 18,
      "outputs": [
        {
          "output_type": "execute_result",
          "data": {
            "text/plain": [
              "2"
            ]
          },
          "metadata": {},
          "execution_count": 18
        }
      ]
    },
    {
      "cell_type": "code",
      "source": [
        "a=2\n"
      ],
      "metadata": {
        "id": "fZjS4ND7yYw3"
      },
      "execution_count": 19,
      "outputs": []
    },
    {
      "cell_type": "code",
      "source": [
        "float(a)"
      ],
      "metadata": {
        "colab": {
          "base_uri": "https://localhost:8080/"
        },
        "id": "f5-yt2rwzVyt",
        "outputId": "9bfd4743-1374-4dba-f269-7eaca1f4e1d6"
      },
      "execution_count": 20,
      "outputs": [
        {
          "output_type": "execute_result",
          "data": {
            "text/plain": [
              "2.0"
            ]
          },
          "metadata": {},
          "execution_count": 20
        }
      ]
    },
    {
      "cell_type": "code",
      "source": [
        "\n",
        "#left to right indexing start from 0\n",
        "#right to left indexing start from -1\n",
        "obj=\"omkar\"\n",
        "obj[-1]\n",
        "#0-->0th, -1 index\n",
        "#m--> 1st -2 Index\n",
        "#k--> 2nd  -3 index\n",
        "#a--> 3rd   -4 Index\n",
        "#r --> 4th   -5 index"
      ],
      "metadata": {
        "colab": {
          "base_uri": "https://localhost:8080/",
          "height": 36
        },
        "id": "KBcXycA7zX9I",
        "outputId": "aaf5cbcd-8198-4803-fc2f-5db8b16c604a"
      },
      "execution_count": 21,
      "outputs": [
        {
          "output_type": "execute_result",
          "data": {
            "text/plain": [
              "'r'"
            ],
            "application/vnd.google.colaboratory.intrinsic+json": {
              "type": "string"
            }
          },
          "metadata": {},
          "execution_count": 21
        }
      ]
    },
    {
      "cell_type": "code",
      "source": [
        "obj =\"omkar\"\n",
        "obj[2]=\"k\"\n",
        "#you cant replace word by giving indexing number. because strings are immutable in nature that means you cant change once it created"
      ],
      "metadata": {
        "colab": {
          "base_uri": "https://localhost:8080/",
          "height": 176
        },
        "id": "-rVIwRQQ1uHo",
        "outputId": "2e8d30ac-7e5e-430e-e724-93d8e5d03cc1"
      },
      "execution_count": 22,
      "outputs": [
        {
          "output_type": "error",
          "ename": "TypeError",
          "evalue": "'str' object does not support item assignment",
          "traceback": [
            "\u001b[0;31m---------------------------------------------------------------------------\u001b[0m",
            "\u001b[0;31mTypeError\u001b[0m                                 Traceback (most recent call last)",
            "\u001b[0;32m<ipython-input-22-d10f480d5642>\u001b[0m in \u001b[0;36m<cell line: 2>\u001b[0;34m()\u001b[0m\n\u001b[1;32m      1\u001b[0m \u001b[0mobj\u001b[0m \u001b[0;34m=\u001b[0m\u001b[0;34m\"omkar\"\u001b[0m\u001b[0;34m\u001b[0m\u001b[0;34m\u001b[0m\u001b[0m\n\u001b[0;32m----> 2\u001b[0;31m \u001b[0mobj\u001b[0m\u001b[0;34m[\u001b[0m\u001b[0;36m2\u001b[0m\u001b[0;34m]\u001b[0m\u001b[0;34m=\u001b[0m\u001b[0;34m\"k\"\u001b[0m\u001b[0;34m\u001b[0m\u001b[0;34m\u001b[0m\u001b[0m\n\u001b[0m\u001b[1;32m      3\u001b[0m \u001b[0;31m#you cant replace word by giving indexing number. because strings are immutable in nature that means you cant change once it created\u001b[0m\u001b[0;34m\u001b[0m\u001b[0;34m\u001b[0m\u001b[0m\n",
            "\u001b[0;31mTypeError\u001b[0m: 'str' object does not support item assignment"
          ]
        }
      ]
    },
    {
      "cell_type": "code",
      "source": [
        "#Arithmatic operators\n",
        "a=26\n",
        "b=5\n"
      ],
      "metadata": {
        "id": "jL_x0sNu3pnq"
      },
      "execution_count": 23,
      "outputs": []
    },
    {
      "cell_type": "code",
      "source": [
        "a+b"
      ],
      "metadata": {
        "colab": {
          "base_uri": "https://localhost:8080/"
        },
        "id": "hZi27Qsw6Qc1",
        "outputId": "dc66fcc2-3988-4a00-fcca-e6aed15c92bc"
      },
      "execution_count": 24,
      "outputs": [
        {
          "output_type": "execute_result",
          "data": {
            "text/plain": [
              "31"
            ]
          },
          "metadata": {},
          "execution_count": 24
        }
      ]
    },
    {
      "cell_type": "code",
      "source": [
        "\n",
        "a-b"
      ],
      "metadata": {
        "colab": {
          "base_uri": "https://localhost:8080/"
        },
        "id": "JVCvUhUT6T9m",
        "outputId": "8d9fec15-1451-4840-edc5-efebb69435fb"
      },
      "execution_count": 25,
      "outputs": [
        {
          "output_type": "execute_result",
          "data": {
            "text/plain": [
              "21"
            ]
          },
          "metadata": {},
          "execution_count": 25
        }
      ]
    },
    {
      "cell_type": "code",
      "source": [
        "a*b"
      ],
      "metadata": {
        "id": "U_CH_59j6VEj"
      },
      "execution_count": null,
      "outputs": []
    },
    {
      "cell_type": "code",
      "source": [
        "a/b"
      ],
      "metadata": {
        "colab": {
          "base_uri": "https://localhost:8080/"
        },
        "id": "JrVYZ-ou6hDZ",
        "outputId": "48bd1c66-a4c8-4faf-c9fe-1020ffb5ee62"
      },
      "execution_count": 27,
      "outputs": [
        {
          "output_type": "execute_result",
          "data": {
            "text/plain": [
              "5.2"
            ]
          },
          "metadata": {},
          "execution_count": 27
        }
      ]
    },
    {
      "cell_type": "code",
      "source": [
        "a//b #it gives you ceiling value (bhagakar)"
      ],
      "metadata": {
        "colab": {
          "base_uri": "https://localhost:8080/"
        },
        "id": "b-KTgtTi6jC0",
        "outputId": "c4469d2b-61ba-46f4-cdbc-f9e3086109b8"
      },
      "execution_count": 28,
      "outputs": [
        {
          "output_type": "execute_result",
          "data": {
            "text/plain": [
              "5"
            ]
          },
          "metadata": {},
          "execution_count": 28
        }
      ]
    },
    {
      "cell_type": "code",
      "source": [
        "a%b #it give you floor value (baki)"
      ],
      "metadata": {
        "colab": {
          "base_uri": "https://localhost:8080/"
        },
        "id": "G6tVdKjO6noD",
        "outputId": "0828ef69-9ebd-45c0-daf4-d5c543c287db"
      },
      "execution_count": 29,
      "outputs": [
        {
          "output_type": "execute_result",
          "data": {
            "text/plain": [
              "1"
            ]
          },
          "metadata": {},
          "execution_count": 29
        }
      ]
    },
    {
      "cell_type": "code",
      "source": [
        "2**2 #it gives square of 2"
      ],
      "metadata": {
        "colab": {
          "base_uri": "https://localhost:8080/"
        },
        "id": "8wJHSkqf6qtY",
        "outputId": "dad06a4b-0544-4a9f-a7e4-08c303a741ba"
      },
      "execution_count": 31,
      "outputs": [
        {
          "output_type": "execute_result",
          "data": {
            "text/plain": [
              "4"
            ]
          },
          "metadata": {},
          "execution_count": 31
        }
      ]
    },
    {
      "cell_type": "code",
      "source": [
        "3**3 #it also qube #depends on what value you are giving"
      ],
      "metadata": {
        "colab": {
          "base_uri": "https://localhost:8080/"
        },
        "id": "0CKV-Ccy7ma_",
        "outputId": "53584fab-9a1c-4ceb-a0dd-041343680e78"
      },
      "execution_count": 32,
      "outputs": [
        {
          "output_type": "execute_result",
          "data": {
            "text/plain": [
              "27"
            ]
          },
          "metadata": {},
          "execution_count": 32
        }
      ]
    },
    {
      "cell_type": "code",
      "source": [
        "omkar= [\"accenture\",15000,28,\"content Moderator\",[\"mumbai\",\"worli\"]]"
      ],
      "metadata": {
        "id": "lRWz2wRF7-mf"
      },
      "execution_count": 33,
      "outputs": []
    },
    {
      "cell_type": "code",
      "source": [
        "print(type(omkar))\n",
        "print(len(omkar))"
      ],
      "metadata": {
        "colab": {
          "base_uri": "https://localhost:8080/"
        },
        "id": "RyifeIvRW-m4",
        "outputId": "d33e5661-109e-4b30-d056-0146ee1c469c"
      },
      "execution_count": 34,
      "outputs": [
        {
          "output_type": "stream",
          "name": "stdout",
          "text": [
            "<class 'list'>\n",
            "5\n"
          ]
        }
      ]
    },
    {
      "cell_type": "code",
      "source": [
        "print(omkar[4][1])   #step1"
      ],
      "metadata": {
        "colab": {
          "base_uri": "https://localhost:8080/"
        },
        "id": "jgp2TbmEXj6u",
        "outputId": "0f7b175d-27e7-4010-f4c0-d035f2716c37"
      },
      "execution_count": 35,
      "outputs": [
        {
          "output_type": "stream",
          "name": "stdout",
          "text": [
            "worli\n"
          ]
        }
      ]
    },
    {
      "cell_type": "code",
      "source": [
        "print(omkar[-1][-1])   #step2"
      ],
      "metadata": {
        "colab": {
          "base_uri": "https://localhost:8080/"
        },
        "id": "0CeDDYwqYXgh",
        "outputId": "9a7137cc-ec78-4f1c-c86a-f59d95e1ecac"
      },
      "execution_count": 36,
      "outputs": [
        {
          "output_type": "stream",
          "name": "stdout",
          "text": [
            "worli\n"
          ]
        }
      ]
    },
    {
      "cell_type": "code",
      "source": [
        "print(omkar[2])"
      ],
      "metadata": {
        "colab": {
          "base_uri": "https://localhost:8080/"
        },
        "id": "OSTPbTiXYjqH",
        "outputId": "87772514-caff-4219-a288-c85a9a4a61ef"
      },
      "execution_count": 37,
      "outputs": [
        {
          "output_type": "stream",
          "name": "stdout",
          "text": [
            "28\n"
          ]
        }
      ]
    },
    {
      "cell_type": "code",
      "source": [
        "print(omkar[2],omkar[4][1]) #this is how you extract two things at once"
      ],
      "metadata": {
        "colab": {
          "base_uri": "https://localhost:8080/"
        },
        "id": "mB4yxZwZY2A_",
        "outputId": "f6516592-fc2a-4f3c-f64f-2f4fdaaa9617"
      },
      "execution_count": 38,
      "outputs": [
        {
          "output_type": "stream",
          "name": "stdout",
          "text": [
            "28 worli\n"
          ]
        }
      ]
    },
    {
      "cell_type": "code",
      "source": [
        "pan= [552255]"
      ],
      "metadata": {
        "id": "qZVev9icaS8t"
      },
      "execution_count": 39,
      "outputs": []
    },
    {
      "cell_type": "code",
      "source": [
        "new_omkar=omkar+pan\n",
        "new_omkar"
      ],
      "metadata": {
        "colab": {
          "base_uri": "https://localhost:8080/"
        },
        "id": "seqgL95raz82",
        "outputId": "013e9362-4037-4513-df99-b2dd9bfd20d5"
      },
      "execution_count": 40,
      "outputs": [
        {
          "output_type": "execute_result",
          "data": {
            "text/plain": [
              "['accenture', 15000, 28, 'content Moderator', ['mumbai', 'worli'], 552255]"
            ]
          },
          "metadata": {},
          "execution_count": 40
        }
      ]
    },
    {
      "cell_type": "code",
      "source": [
        "print(\"worli\" in new_omkar)"
      ],
      "metadata": {
        "colab": {
          "base_uri": "https://localhost:8080/"
        },
        "id": "X_n4dZ3oa4sh",
        "outputId": "ef6083e5-ea82-4f19-9e9f-b2e809440df7"
      },
      "execution_count": 41,
      "outputs": [
        {
          "output_type": "stream",
          "name": "stdout",
          "text": [
            "False\n"
          ]
        }
      ]
    },
    {
      "cell_type": "code",
      "source": [
        "print(\"worli\" in omkar[4])     #this how if you want to find value in nested list"
      ],
      "metadata": {
        "colab": {
          "base_uri": "https://localhost:8080/"
        },
        "id": "SK6mfEmKcUhY",
        "outputId": "2ce6533a-e2bf-4705-a11b-233a96bfaa6c"
      },
      "execution_count": 42,
      "outputs": [
        {
          "output_type": "stream",
          "name": "stdout",
          "text": [
            "True\n"
          ]
        }
      ]
    },
    {
      "cell_type": "code",
      "source": [
        "new_omkar"
      ],
      "metadata": {
        "colab": {
          "base_uri": "https://localhost:8080/"
        },
        "id": "H9FKddYIbQz1",
        "outputId": "5d0adecc-e449-4189-dd34-06a35f4df3fa"
      },
      "execution_count": 43,
      "outputs": [
        {
          "output_type": "execute_result",
          "data": {
            "text/plain": [
              "['accenture', 15000, 28, 'content Moderator', ['mumbai', 'worli'], 552255]"
            ]
          },
          "metadata": {},
          "execution_count": 43
        }
      ]
    },
    {
      "cell_type": "code",
      "source": [
        "#String is mutable so if i want to change value the value in the list\n",
        "new_omkar\n",
        "new_omkar[1]=20000"
      ],
      "metadata": {
        "id": "VPDmMNsqcueg"
      },
      "execution_count": 44,
      "outputs": []
    },
    {
      "cell_type": "code",
      "source": [
        "new_omkar"
      ],
      "metadata": {
        "colab": {
          "base_uri": "https://localhost:8080/"
        },
        "id": "MNa7gZQ3dZ_K",
        "outputId": "caf7097e-ca30-46bb-89b1-a4fa8bafa599"
      },
      "execution_count": 45,
      "outputs": [
        {
          "output_type": "execute_result",
          "data": {
            "text/plain": [
              "['accenture', 20000, 28, 'content Moderator', ['mumbai', 'worli'], 552255]"
            ]
          },
          "metadata": {},
          "execution_count": 45
        }
      ]
    },
    {
      "cell_type": "code",
      "source": [
        "aadhar=[998877]\n",
        "new_omkar.extend(aadhar)  #extend command"
      ],
      "metadata": {
        "id": "NzguRAlRdg4k"
      },
      "execution_count": 46,
      "outputs": []
    },
    {
      "cell_type": "code",
      "source": [
        "new_omkar"
      ],
      "metadata": {
        "colab": {
          "base_uri": "https://localhost:8080/"
        },
        "id": "rnXrbgkAd-xQ",
        "outputId": "46af8dda-3155-454a-d19b-f2c1d2405a93"
      },
      "execution_count": 47,
      "outputs": [
        {
          "output_type": "execute_result",
          "data": {
            "text/plain": [
              "['accenture',\n",
              " 20000,\n",
              " 28,\n",
              " 'content Moderator',\n",
              " ['mumbai', 'worli'],\n",
              " 552255,\n",
              " 998877]"
            ]
          },
          "metadata": {},
          "execution_count": 47
        }
      ]
    },
    {
      "cell_type": "code",
      "source": [
        "pincode=[400018]\n",
        "new_omkar.append(pincode) #append command"
      ],
      "metadata": {
        "id": "DOI3s59eeA24"
      },
      "execution_count": 48,
      "outputs": []
    },
    {
      "cell_type": "code",
      "source": [
        "new_omkar"
      ],
      "metadata": {
        "colab": {
          "base_uri": "https://localhost:8080/"
        },
        "id": "LUtUkcnJelcQ",
        "outputId": "432aeaee-d65f-457c-ecec-04f85e508846"
      },
      "execution_count": 50,
      "outputs": [
        {
          "output_type": "execute_result",
          "data": {
            "text/plain": [
              "['accenture',\n",
              " 20000,\n",
              " 28,\n",
              " 'content Moderator',\n",
              " ['mumbai', 'worli'],\n",
              " 552255,\n",
              " 998877,\n",
              " [400018]]"
            ]
          },
          "metadata": {},
          "execution_count": 50
        }
      ]
    },
    {
      "cell_type": "code",
      "source": [
        "del new_omkar[5]        #delete command\n",
        "new_omkar"
      ],
      "metadata": {
        "colab": {
          "base_uri": "https://localhost:8080/"
        },
        "id": "CHpB5H7yenLC",
        "outputId": "5d1d8b81-25ea-4d21-b7df-1beb28f2f584"
      },
      "execution_count": 52,
      "outputs": [
        {
          "output_type": "execute_result",
          "data": {
            "text/plain": [
              "['accenture', 20000, 28, 'content Moderator', ['mumbai', 'worli'], [400018]]"
            ]
          },
          "metadata": {},
          "execution_count": 52
        }
      ]
    },
    {
      "cell_type": "code",
      "source": [
        "#bydfault pop deletes the last object from the list\n",
        "new_omkar.pop(5) #it already delete it and there no object on index 5"
      ],
      "metadata": {
        "colab": {
          "base_uri": "https://localhost:8080/",
          "height": 141
        },
        "id": "LDpuyCQLSLZV",
        "outputId": "79a81bdf-4eb9-4811-8a78-619019c43064"
      },
      "execution_count": 57,
      "outputs": [
        {
          "output_type": "error",
          "ename": "IndexError",
          "evalue": "pop index out of range",
          "traceback": [
            "\u001b[0;31m---------------------------------------------------------------------------\u001b[0m",
            "\u001b[0;31mIndexError\u001b[0m                                Traceback (most recent call last)",
            "\u001b[0;32m<ipython-input-57-ecf781927eed>\u001b[0m in \u001b[0;36m<cell line: 1>\u001b[0;34m()\u001b[0m\n\u001b[0;32m----> 1\u001b[0;31m \u001b[0mnew_omkar\u001b[0m\u001b[0;34m.\u001b[0m\u001b[0mpop\u001b[0m\u001b[0;34m(\u001b[0m\u001b[0;36m5\u001b[0m\u001b[0;34m)\u001b[0m\u001b[0;34m\u001b[0m\u001b[0;34m\u001b[0m\u001b[0m\n\u001b[0m",
            "\u001b[0;31mIndexError\u001b[0m: pop index out of range"
          ]
        }
      ]
    },
    {
      "cell_type": "code",
      "source": [
        "new_omkar"
      ],
      "metadata": {
        "colab": {
          "base_uri": "https://localhost:8080/"
        },
        "id": "Gd3VN50iSpMM",
        "outputId": "987bbd10-c2f3-4b69-9f16-75324e1ebd95"
      },
      "execution_count": 58,
      "outputs": [
        {
          "output_type": "execute_result",
          "data": {
            "text/plain": [
              "['accenture', 20000, 28, 'content Moderator', ['mumbai', 'worli']]"
            ]
          },
          "metadata": {},
          "execution_count": 58
        }
      ]
    },
    {
      "cell_type": "code",
      "source": [
        "new_omkar.remove(28) #you can remove certain value by using remove variable\n",
        "new_omkar"
      ],
      "metadata": {
        "colab": {
          "base_uri": "https://localhost:8080/"
        },
        "id": "V2iMvNxdTEUm",
        "outputId": "87f3d324-68e1-4ca4-e733-ba54adce10c5"
      },
      "execution_count": 59,
      "outputs": [
        {
          "output_type": "execute_result",
          "data": {
            "text/plain": [
              "['accenture', 20000, 'content Moderator', ['mumbai', 'worli']]"
            ]
          },
          "metadata": {},
          "execution_count": 59
        }
      ]
    },
    {
      "cell_type": "code",
      "source": [
        "count=[4,6,9,2,1,10]\n"
      ],
      "metadata": {
        "id": "PcEvLXfHTiRt"
      },
      "execution_count": 63,
      "outputs": []
    },
    {
      "cell_type": "code",
      "source": [
        "count.sort()   #sort function\n",
        "count"
      ],
      "metadata": {
        "colab": {
          "base_uri": "https://localhost:8080/"
        },
        "id": "rOLx1J0rUE4g",
        "outputId": "9039a098-5b36-4d76-c849-6ca0bf6c7539"
      },
      "execution_count": 66,
      "outputs": [
        {
          "output_type": "execute_result",
          "data": {
            "text/plain": [
              "[1, 2, 4, 6, 9, 10]"
            ]
          },
          "metadata": {},
          "execution_count": 66
        }
      ]
    },
    {
      "cell_type": "code",
      "source": [
        "a=count\n",
        "print(a)\n",
        "print(count)"
      ],
      "metadata": {
        "colab": {
          "base_uri": "https://localhost:8080/"
        },
        "id": "9qZC_BwYUyo5",
        "outputId": "4b53647d-676f-40c5-9d61-a5de6e671d3a"
      },
      "execution_count": 67,
      "outputs": [
        {
          "output_type": "stream",
          "name": "stdout",
          "text": [
            "[1, 2, 4, 6, 9, 10]\n",
            "[1, 2, 4, 6, 9, 10]\n"
          ]
        }
      ]
    },
    {
      "cell_type": "code",
      "source": [
        "count.sort (reverse=True)\n",
        "count"
      ],
      "metadata": {
        "colab": {
          "base_uri": "https://localhost:8080/"
        },
        "id": "jgtSLBOnU0tE",
        "outputId": "35f209df-0c8e-451d-e59b-21888079ed67"
      },
      "execution_count": 70,
      "outputs": [
        {
          "output_type": "execute_result",
          "data": {
            "text/plain": [
              "[10, 9, 6, 4, 2, 1]"
            ]
          },
          "metadata": {},
          "execution_count": 70
        }
      ]
    },
    {
      "cell_type": "code",
      "source": [],
      "metadata": {
        "id": "KrAmPZ5dU0q5"
      },
      "execution_count": null,
      "outputs": []
    },
    {
      "cell_type": "code",
      "source": [],
      "metadata": {
        "id": "TKEGe2HbU0ob"
      },
      "execution_count": null,
      "outputs": []
    },
    {
      "cell_type": "code",
      "source": [],
      "metadata": {
        "id": "po1CXWlDU0dR"
      },
      "execution_count": null,
      "outputs": []
    },
    {
      "cell_type": "code",
      "source": [
        "text=[\"mobile\",\"laptop\",\"computer\"]"
      ],
      "metadata": {
        "id": "kEoSlyxPUGUf"
      },
      "execution_count": 71,
      "outputs": []
    },
    {
      "cell_type": "code",
      "source": [
        "b=text.sort()\n",
        "print(text)\n",
        "print(b)"
      ],
      "metadata": {
        "colab": {
          "base_uri": "https://localhost:8080/"
        },
        "id": "sDAQcL3TVWhX",
        "outputId": "66c75323-667f-4311-d4b8-0a1d4991e249"
      },
      "execution_count": 73,
      "outputs": [
        {
          "output_type": "stream",
          "name": "stdout",
          "text": [
            "['computer', 'laptop', 'mobile']\n",
            "None\n"
          ]
        }
      ]
    },
    {
      "cell_type": "code",
      "source": [
        "b=sorted(text)      #sorted function\n",
        "print(text)\n",
        "print(b)"
      ],
      "metadata": {
        "colab": {
          "base_uri": "https://localhost:8080/"
        },
        "id": "v-9U_iOiVnwo",
        "outputId": "46142333-3a16-4c9c-879b-9413f5c7aab1"
      },
      "execution_count": 75,
      "outputs": [
        {
          "output_type": "stream",
          "name": "stdout",
          "text": [
            "['computer', 'laptop', 'mobile']\n",
            "['computer', 'laptop', 'mobile']\n"
          ]
        }
      ]
    },
    {
      "cell_type": "code",
      "source": [
        "fruits=[\"mango\",\"apple\",\"banana\"]   #shallow copy, here i am directly assigning fruits to b\n",
        "b=fruits                            #so whatever changes im going to do with fruits it accordingly b also get changed"
      ],
      "metadata": {
        "id": "5VkRKGRQV2QN"
      },
      "execution_count": 76,
      "outputs": []
    },
    {
      "cell_type": "code",
      "source": [
        "fruits.pop()"
      ],
      "metadata": {
        "colab": {
          "base_uri": "https://localhost:8080/",
          "height": 36
        },
        "id": "KTqZzJzPXXYh",
        "outputId": "254c1b6b-5744-4b9a-c19a-b353cde1aac8"
      },
      "execution_count": 77,
      "outputs": [
        {
          "output_type": "execute_result",
          "data": {
            "text/plain": [
              "'banana'"
            ],
            "application/vnd.google.colaboratory.intrinsic+json": {
              "type": "string"
            }
          },
          "metadata": {},
          "execution_count": 77
        }
      ]
    },
    {
      "cell_type": "code",
      "source": [
        "b"
      ],
      "metadata": {
        "colab": {
          "base_uri": "https://localhost:8080/"
        },
        "id": "rjUNlAJ7XZoU",
        "outputId": "e72d3f61-4436-46e6-b70c-619b8e181835"
      },
      "execution_count": 78,
      "outputs": [
        {
          "output_type": "execute_result",
          "data": {
            "text/plain": [
              "['mango', 'apple']"
            ]
          },
          "metadata": {},
          "execution_count": 78
        }
      ]
    },
    {
      "cell_type": "code",
      "source": [
        "fruits=[\"mango\",\"apple\",\"banana\"]"
      ],
      "metadata": {
        "id": "LU09pZRWYPKR"
      },
      "execution_count": 84,
      "outputs": []
    },
    {
      "cell_type": "code",
      "source": [
        "b=fruits[0:3]"
      ],
      "metadata": {
        "id": "cMFl65ENYdBc"
      },
      "execution_count": 85,
      "outputs": []
    },
    {
      "cell_type": "code",
      "source": [
        "fruits.pop()"
      ],
      "metadata": {
        "colab": {
          "base_uri": "https://localhost:8080/",
          "height": 36
        },
        "id": "x58PH8zKYhY1",
        "outputId": "aa2f13ea-f5a7-4437-d3b4-dc1d5148b9b4"
      },
      "execution_count": 86,
      "outputs": [
        {
          "output_type": "execute_result",
          "data": {
            "text/plain": [
              "'banana'"
            ],
            "application/vnd.google.colaboratory.intrinsic+json": {
              "type": "string"
            }
          },
          "metadata": {},
          "execution_count": 86
        }
      ]
    },
    {
      "cell_type": "code",
      "source": [
        "b"
      ],
      "metadata": {
        "colab": {
          "base_uri": "https://localhost:8080/"
        },
        "id": "6bjXTn89YmKT",
        "outputId": "529445d4-6a83-4e0f-9ff4-04c27f93f223"
      },
      "execution_count": 87,
      "outputs": [
        {
          "output_type": "execute_result",
          "data": {
            "text/plain": [
              "['mango', 'apple', 'banana']"
            ]
          },
          "metadata": {},
          "execution_count": 87
        }
      ]
    },
    {
      "cell_type": "code",
      "source": [
        "mobile_name=\"apple_14_pro\"\n"
      ],
      "metadata": {
        "id": "butkEhq8Ym9D"
      },
      "execution_count": 88,
      "outputs": []
    },
    {
      "cell_type": "code",
      "source": [
        "print(mobile_name[0:5])\n",
        "print(mobile_name[6:8])\n",
        "print(mobile_name[9:12])\n"
      ],
      "metadata": {
        "colab": {
          "base_uri": "https://localhost:8080/"
        },
        "id": "1z_ZMBTMZT9R",
        "outputId": "ff2f4466-bc5f-4624-a16a-5282ff5a3f6d"
      },
      "execution_count": 95,
      "outputs": [
        {
          "output_type": "stream",
          "name": "stdout",
          "text": [
            "apple\n",
            "14\n",
            "pro\n"
          ]
        }
      ]
    },
    {
      "cell_type": "code",
      "source": [
        "b=mobile_name.split(\"_\")\n",
        "b"
      ],
      "metadata": {
        "colab": {
          "base_uri": "https://localhost:8080/"
        },
        "id": "BwPaFnWBZc2n",
        "outputId": "95ebb550-ce90-4c54-ce10-fd568ffcee17"
      },
      "execution_count": 100,
      "outputs": [
        {
          "output_type": "execute_result",
          "data": {
            "text/plain": [
              "['apple', '14', 'pro']"
            ]
          },
          "metadata": {},
          "execution_count": 100
        }
      ]
    },
    {
      "cell_type": "code",
      "source": [
        "\n",
        "print(b[0])\n",
        "print(b[1])\n",
        "print(b[2])"
      ],
      "metadata": {
        "colab": {
          "base_uri": "https://localhost:8080/"
        },
        "id": "FgeKvRfHaHLc",
        "outputId": "0caecbbf-1efc-4eee-c076-de7122ae989b"
      },
      "execution_count": 103,
      "outputs": [
        {
          "output_type": "stream",
          "name": "stdout",
          "text": [
            "apple\n",
            "14\n",
            "pro\n"
          ]
        }
      ]
    },
    {
      "cell_type": "code",
      "source": [
        "mixed_data = (\"apple\", 10, [\"banana\", \"orange\"], 20.5)   #Q can tuple and list together\n",
        "print(mixed_data)\n"
      ],
      "metadata": {
        "colab": {
          "base_uri": "https://localhost:8080/"
        },
        "id": "Cc4SrDpeaLOl",
        "outputId": "8ae08bbb-ed30-4bf2-fab6-1e587157365f"
      },
      "execution_count": 106,
      "outputs": [
        {
          "output_type": "stream",
          "name": "stdout",
          "text": [
            "('apple', 10, ['banana', 'orange'], 20.5)\n"
          ]
        }
      ]
    },
    {
      "cell_type": "code",
      "source": [
        "mixed_data = [\"apple\", 10, (\"banana\", \"orange\"), 20.5]\n",
        "\n",
        "print(mixed_data)\n"
      ],
      "metadata": {
        "colab": {
          "base_uri": "https://localhost:8080/"
        },
        "id": "Oa-xIrBfbI-m",
        "outputId": "a6d0e36d-8f08-46b8-c9e0-ab845f7a9a16"
      },
      "execution_count": 107,
      "outputs": [
        {
          "output_type": "stream",
          "name": "stdout",
          "text": [
            "['apple', 10, ('banana', 'orange'), 20.5]\n"
          ]
        }
      ]
    },
    {
      "cell_type": "code",
      "source": [
        "list_1=[2, 33, 222, 14, 25] #What is list_1[-5]?"
      ],
      "metadata": {
        "id": "WebCBHARbUuA"
      },
      "execution_count": 108,
      "outputs": []
    },
    {
      "cell_type": "code",
      "source": [
        "print(list_1[-5])"
      ],
      "metadata": {
        "colab": {
          "base_uri": "https://localhost:8080/"
        },
        "id": "b-1l78-ycGT2",
        "outputId": "5d918e10-77d1-4590-a2df-aa3c93999090"
      },
      "execution_count": 109,
      "outputs": [
        {
          "output_type": "stream",
          "name": "stdout",
          "text": [
            "2\n"
          ]
        }
      ]
    },
    {
      "cell_type": "code",
      "source": [
        "word = ['1','2','3','4']  #Q3\n",
        "word[ : ] = [ ]\n",
        "print(word)\n"
      ],
      "metadata": {
        "colab": {
          "base_uri": "https://localhost:8080/"
        },
        "id": "3tmKZkSwcXGo",
        "outputId": "eba92f06-5bbe-4049-bd32-9d38586115a0"
      },
      "execution_count": 110,
      "outputs": [
        {
          "output_type": "stream",
          "name": "stdout",
          "text": [
            "[]\n"
          ]
        }
      ]
    },
    {
      "cell_type": "code",
      "source": [
        "L = ['one','two','three', 'four', 'five', 'six']\n",
        "L_1=sorted(L)\n",
        "print(L)\n",
        "print(L_1)"
      ],
      "metadata": {
        "colab": {
          "base_uri": "https://localhost:8080/"
        },
        "id": "ILLixWfHcqAA",
        "outputId": "1750a0f2-30ac-44d4-af45-47bc2773dcbf"
      },
      "execution_count": 113,
      "outputs": [
        {
          "output_type": "stream",
          "name": "stdout",
          "text": [
            "['one', 'two', 'three', 'four', 'five', 'six']\n",
            "['five', 'four', 'one', 'six', 'three', 'two']\n"
          ]
        }
      ]
    },
    {
      "cell_type": "code",
      "source": [
        "L_1.sort(reverse=True)"
      ],
      "metadata": {
        "id": "0XHcGkVzdAO_"
      },
      "execution_count": 114,
      "outputs": []
    },
    {
      "cell_type": "code",
      "source": [
        "L_1"
      ],
      "metadata": {
        "colab": {
          "base_uri": "https://localhost:8080/"
        },
        "id": "y7ycUdx5db23",
        "outputId": "63114483-1f0f-4545-d4d5-4e13e0dbac3c"
      },
      "execution_count": 115,
      "outputs": [
        {
          "output_type": "execute_result",
          "data": {
            "text/plain": [
              "['two', 'three', 'six', 'one', 'four', 'five']"
            ]
          },
          "metadata": {},
          "execution_count": 115
        }
      ]
    },
    {
      "cell_type": "code",
      "source": [
        "input_list=['SAS', 'R', 'PYTHON', 'SPSS']  #Q remove spss, add spark j\n",
        "input_list"
      ],
      "metadata": {
        "colab": {
          "base_uri": "https://localhost:8080/"
        },
        "id": "r-YXm9xodfR1",
        "outputId": "a462f53a-b226-43eb-fa4f-6600e83c2ac6"
      },
      "execution_count": 132,
      "outputs": [
        {
          "output_type": "execute_result",
          "data": {
            "text/plain": [
              "['SAS', 'R', 'PYTHON', 'SPSS']"
            ]
          },
          "metadata": {},
          "execution_count": 132
        }
      ]
    },
    {
      "cell_type": "code",
      "source": [
        "input_list[3]=\"SPARK\"\n",
        "input_list"
      ],
      "metadata": {
        "colab": {
          "base_uri": "https://localhost:8080/"
        },
        "id": "jM_TuHVSgtbN",
        "outputId": "882667ce-5033-4441-9a36-1fecff2842ff"
      },
      "execution_count": 134,
      "outputs": [
        {
          "output_type": "execute_result",
          "data": {
            "text/plain": [
              "['SAS', 'R', 'PYTHON', 'SPARK']"
            ]
          },
          "metadata": {},
          "execution_count": 134
        }
      ]
    },
    {
      "cell_type": "code",
      "source": [
        "input_list='R'\n",
        "print(input_list.replace(\"R\",\"L\"))"
      ],
      "metadata": {
        "colab": {
          "base_uri": "https://localhost:8080/"
        },
        "id": "iwzr8hXhiu0B",
        "outputId": "268422b1-cd69-4d60-fb34-bac4942c3350"
      },
      "execution_count": 145,
      "outputs": [
        {
          "output_type": "stream",
          "name": "stdout",
          "text": [
            "L\n"
          ]
        }
      ]
    },
    {
      "cell_type": "code",
      "source": [
        "#Convert a list ['Pythons syntax is easy to learn', 'Pythons syntax is very clear'] to a string using ‘&’.\n",
        "#The sample output of this string will be: Pythons syntax is easy to learn & Pythons syntax is very clear\n",
        "\n",
        "#Note that there is a space on both sides of '&' (as usual in English sentences)."
      ],
      "metadata": {
        "id": "2LzHbwDajFzW"
      },
      "execution_count": 146,
      "outputs": []
    },
    {
      "cell_type": "code",
      "source": [
        "input_list = ['Pythons syntax is easy to learn', 'Pythons syntax is very clear']\n"
      ],
      "metadata": {
        "id": "PCe_rmRzkhl_"
      },
      "execution_count": 147,
      "outputs": []
    },
    {
      "cell_type": "code",
      "source": [
        "input_list1=input_list[0]+ \" & \"+input_list[1]"
      ],
      "metadata": {
        "id": "8oMItcSIk568"
      },
      "execution_count": 152,
      "outputs": []
    },
    {
      "cell_type": "code",
      "source": [
        "input_list1"
      ],
      "metadata": {
        "colab": {
          "base_uri": "https://localhost:8080/",
          "height": 36
        },
        "id": "84DtYzOylt1B",
        "outputId": "6c7a137b-239d-4803-df90-12eafbccf02d"
      },
      "execution_count": 153,
      "outputs": [
        {
          "output_type": "execute_result",
          "data": {
            "text/plain": [
              "'Pythons syntax is easy to learn & Pythons syntax is very clear'"
            ],
            "application/vnd.google.colaboratory.intrinsic+json": {
              "type": "string"
            }
          },
          "metadata": {},
          "execution_count": 153
        }
      ]
    },
    {
      "cell_type": "code",
      "source": [
        "#use java with python"
      ],
      "metadata": {
        "id": "8cexfuY2mhc2"
      },
      "execution_count": 155,
      "outputs": []
    },
    {
      "cell_type": "code",
      "source": [
        "input_list = [['SAS','R'],['Tableau','SQL'],['Python','Java']]\n",
        "\n"
      ],
      "metadata": {
        "id": "UkwYKAKNm8dV"
      },
      "execution_count": 156,
      "outputs": []
    },
    {
      "cell_type": "code",
      "source": [
        "input_list[-1][-2]"
      ],
      "metadata": {
        "colab": {
          "base_uri": "https://localhost:8080/",
          "height": 36
        },
        "id": "OTH4WQhOnD4E",
        "outputId": "9e14f297-3ec3-43ec-e893-3f9dacc03f62"
      },
      "execution_count": 157,
      "outputs": [
        {
          "output_type": "execute_result",
          "data": {
            "text/plain": [
              "'Python'"
            ],
            "application/vnd.google.colaboratory.intrinsic+json": {
              "type": "string"
            }
          },
          "metadata": {},
          "execution_count": 157
        }
      ]
    },
    {
      "cell_type": "code",
      "source": [],
      "metadata": {
        "id": "BQu88khonIQK"
      },
      "execution_count": null,
      "outputs": []
    }
  ]
}